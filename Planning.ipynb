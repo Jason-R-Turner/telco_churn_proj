{
 "cells": [
  {
   "cell_type": "markdown",
   "id": "4a039f07-a3b2-49bd-bc43-a6069881101f",
   "metadata": {},
   "source": [
    "# Classification Project Objectives"
   ]
  },
  {
   "cell_type": "markdown",
   "id": "1749c88b-78dc-480d-b505-7368ee1e7b03",
   "metadata": {},
   "source": [
    "- [ ] Document code\n",
    "- [ ] Explain process\n",
    "    - [ ] Data acquistion\n",
    "    - [ ] Preparation\n",
    "    - [ ] Exploratory data analysis and statistical testing\n",
    "    - [ ] Modeling\n",
    "    - [ ] Model evaluation\n",
    "- [ ] Findings\n",
    "- [ ] Key takeaways\n",
    "- [ ] Jupyter Notebok \"Final Report\""
   ]
  },
  {
   "cell_type": "markdown",
   "id": "df788c04-7d56-42d7-a7bd-0620e2d68a56",
   "metadata": {},
   "source": [
    "## Deliverables\n",
    "1. [ ] Readme.md file (plan)\n",
    "2. [ ] Final Report.ipynb (report)\n",
    "3. [x] Acquire.py & Prepare.py Modules\n",
    "4. [ ] Predictions.csv (predict)\n",
    "5. [ ] 1+ non-final .ipynb Notebooks for exploration (explore), modeling (model), and other work (wrangle)"
   ]
  },
  {
   "cell_type": "markdown",
   "id": "6d69aab8-1efe-4ca4-b2f0-b3922990289a",
   "metadata": {},
   "source": [
    "## 1. Readme.md\n",
    "- [ ] Include a project plan which helps guide both the user and yourself through the different stages of the pipeline and steps you took to get to your conclusion\n",
    "- [ ] Include a data dictionary, which is important to provide in order to define and disambiguate each of the variables you are analyzing\n",
    "- [ ] Include useful and adequate instructions for reproducing your analysis and final report\n",
    "- [ ]  include a clear project goal that reflect on what you are trying to achieve for the business/organization (in the scenario layed out and should be specific enough to know when you have reached it and concise enough to keep in 1-2 sentences)\n",
    "- [ ] Include a project description that provides context for your project, including explaining why you are tackling this project, why it is important and how it could be of use to someone else beyond just the interest or new knowledge. It dives in a bit deeper than the goals and not a copy of the class project spec\n",
    "- [ ] Include initial questions and focus you are going into the analysis with, what were your initial ideas and thoughts, and did those play out to be true"
   ]
  },
  {
   "cell_type": "markdown",
   "id": "4504069d-d697-4bb2-bf96-b4e77686c774",
   "metadata": {},
   "source": [
    "## 2. .ipynb\n",
    "- [ ] In .ipynb include, in a markdown cell, a verbal explanation of the steps taken to prepare the data and why you made those decisions\n",
    "- [ ] Data split into three samples (Train, Validate, and Test) prior to exploration\n",
    "    - [ ] imputers, scalers, feature elimination, and selection algorithms should all be run after the split, so they are fit on train and transform validate and test\n",
    "- [ ] Key questions asked and answered of the data using natural language in markdown cells\n",
    "- [ ] Headers prior to the visualizations or statistical tests (does not take the place of stating your hypothesis/alternative hypothesis when doing a statistical test)\n",
    "- [ ] All statistical tests supported with a visualization of the interaction of the tested variables\n",
    "- [ ] Charts in the final report should have titles and labels that are descriptive and useful\n",
    "- [ ] The correct statistical tests are run, given the data type and distribution, and the correct conclusions are drawn\n",
    "- [ ] \n",
    "- [ ] Markdown cells contain a clear answer in layman's terms\n",
    "- [ ] Your code contains code comments that are helpful to the reader in understanding what each blocks/lines of code are doing.\n",
    "- [ ] Markdown that documents your thought process, decision making, and navigation through the pipeline throughout the notebook consistently, wtih not just headers\n",
    "    - Planning\n",
    "    - Acquistion\n",
    "    - Preparation\n",
    "    - Exploration\n",
    "    - Pre-processing\n",
    "    - Modeling\n",
    "    - Delivery\n",
    "- [ ] Conclusion summary that addresses the questions you raised in the opening of the project, which should tie together your analysis, the drivers of the outcome, and how you would expect your ML model to perform in the future on unseen data, in layman's terms\n",
    "- [ ] Conclusion that contains actionable recommendations based on your insights and analysis to your simulated audience, not about what to do differently with the data\n",
    "- [ ] Include next steps from a data science perspective that will assist in improving your research"
   ]
  },
  {
   "cell_type": "markdown",
   "id": "c2399b1f-3cff-4c43-9109-ecb80d8b9dfe",
   "metadata": {
    "tags": []
   },
   "source": [
    "## 3. Create modules making sure they have docstrings in your own words \n",
    "- ✅ acquire.py\n",
    "- ✅ prepare.py\n",
    "- ✅ env.py\n",
    "- [ ] In .py or .ipynb explain decisions made and reasons are communicated and documented for handling missing values.\n",
    "- [ ] explaining what it does, its input(s) and output(s)\n",
    "- [ ] split data into 50%, 30%, and 20%, (or 50%, 26%, 24%) (starting point)\n",
    "- [ ] reproducible i.e. random state"
   ]
  },
  {
   "cell_type": "markdown",
   "id": "73879d44-7f24-4449-8d3f-119cc636ca16",
   "metadata": {},
   "source": [
    "## 4. Predictions made from the top model developed\n",
    "- [ ] 3 columns\n",
    "    1. [ ] customer_id\n",
    "    2. [ ] probability of churn\n",
    "    3. [ ] prediction of churn (1=churn, 0=not_churn)\n",
    "        - [ ] from your best performing model ran on X_test\n",
    "The order of y_pred and y_proba numpy arrays come from running the model on X_test, which match the order of the rows in X_test. You can obtain the customer_id from X_test and concatenate these values together into a dataframe to write to CSV."
   ]
  },
  {
   "cell_type": "markdown",
   "id": "ff81c4b8-b012-4dba-842d-b0969e90d5ae",
   "metadata": {
    "jp-MarkdownHeadingCollapsed": true,
    "tags": []
   },
   "source": [
    "## 5. Other notebooks for explore, model, and wrangle\n",
    "- [ ] Decisions made and reasons are communicated and documented for handling missing values"
   ]
  },
  {
   "cell_type": "markdown",
   "id": "d356f429-4b04-4a4d-9259-6ce0d05d861e",
   "metadata": {},
   "source": [
    "## Questions to answer in exploration with 📊 and statistics\n",
    "similar to the following:\n",
    "- Are customers with DSL more or less likely to churn?\n",
    "- What month are customers most likely to churn and does that depend on their contract type?\n",
    "- Is there a service that is associated with more churn than expected?\n",
    "- Do customers who churn have a higher average monthly spend than those who don't?"
   ]
  },
  {
   "cell_type": "markdown",
   "id": "afc21616-7ca9-4a6f-b9ab-e9920d10fee7",
   "metadata": {},
   "source": [
    "1. ✅ Question 1 -  Do customers who use Tech Support churn at a significantly different rate and if so is it more or less?"
   ]
  },
  {
   "cell_type": "markdown",
   "id": "0a54af9d-09ce-4159-ba60-298c60c475c2",
   "metadata": {},
   "source": [
    "2. ✅ Question 2 - What are the rates of churn of 1 and 2 year contracts both before and after fullfilling their obligations as compared to month-to-month contracts?"
   ]
  },
  {
   "cell_type": "markdown",
   "id": "8e4f385d-d131-4340-837d-595a7c38a4db",
   "metadata": {},
   "source": [
    "3. ✅ Question 3 - What groups of customers pay the most in monthly charges but aren't churning?\n",
    "    - Try to visualize"
   ]
  },
  {
   "cell_type": "markdown",
   "id": "98fa9b65-af6a-4239-a287-43c1a69415be",
   "metadata": {},
   "source": [
    "4. ✅ Question 4 - ~~What services offered show the lowest rates of overall churn?~~\n",
    "     ~~What's the likelihood that a customer will churn in the next month or year?~~\n",
    "     Is there a significant difference in correlation between monthly charges and tenure for customers churn vs those who do not?"
   ]
  },
  {
   "cell_type": "markdown",
   "id": "3712604d-5959-4dfd-bfa5-31d6b8d72b4d",
   "metadata": {},
   "source": [
    "## Create at least 4 different visualizations that have the following:\n",
    "a. 1️⃣ 2️⃣ 3️⃣ 4️⃣ A question in **markdown** that you want to answer\n",
    "\n",
    "b. 1️⃣ 2️⃣ A visualization\n",
    "\n",
    "c. 1️⃣ A statistical test (in at least 2 of your 4)\n",
    "\n",
    "d. 1️⃣ 2️⃣ A clear answer or takeaway in **markdown** and natural language to the question based on your exploration"
   ]
  },
  {
   "cell_type": "markdown",
   "id": "bfd205d9-4200-43c4-af07-4a2d46622faf",
   "metadata": {},
   "source": [
    "## Tests to run"
   ]
  },
  {
   "cell_type": "markdown",
   "id": "cae95aad-a64b-4bab-8d9f-c89d02fb77df",
   "metadata": {},
   "source": [
    "## Fit 3 models using the following:"
   ]
  },
  {
   "cell_type": "markdown",
   "id": "9f021a07-dc37-4ff1-ace4-085d95e16e52",
   "metadata": {},
   "source": [
    "1. train"
   ]
  },
  {
   "cell_type": "markdown",
   "id": "8648efb3-a678-4022-a68b-2fb8b61913ae",
   "metadata": {},
   "source": [
    "2. predict"
   ]
  },
  {
   "cell_type": "markdown",
   "id": "583381e3-3773-44bc-ad14-08ce1cd9f75c",
   "metadata": {},
   "source": [
    "3. evaluate with train"
   ]
  },
  {
   "cell_type": "markdown",
   "id": "c574b19e-55cf-4999-a943-515303fbbade",
   "metadata": {},
   "source": [
    "## Select the best model by evaluating with validate"
   ]
  },
  {
   "cell_type": "markdown",
   "id": "b4a73789-929f-4471-a828-fdf8fe3d840f",
   "metadata": {},
   "source": [
    "## Evaluate best model on test"
   ]
  },
  {
   "cell_type": "markdown",
   "id": "1ecbc363-313e-48cd-9217-e4532141f4f7",
   "metadata": {},
   "source": [
    "## Make a Predictions.csv file with the following:\n",
    "- 3 columns: `customer_id`, `probability of churn`, and `prediction of churn`. (1=churn, 0=not_churn).\n",
    "- These predictions should be from your best performing model ran on `X_test`.\n",
    "- Note that the order of the `y_pred` and `y_proba` are numpy arrays coming from running the model on `X_test`. The order of those values will match the order of the rows in `X_test`, so you can obtain the customer_id from `X_test` and concatenate these values together into a dataframe to write to CSV."
   ]
  },
  {
   "cell_type": "markdown",
   "id": "f63739fd-5ae9-4a00-9eae-24a14d480b93",
   "metadata": {},
   "source": [
    "## Make copy of notebook"
   ]
  },
  {
   "cell_type": "markdown",
   "id": "7440673a-fe94-45c7-8bc4-d104478fe7f1",
   "metadata": {
    "tags": []
   },
   "source": [
    "## One will be your report name `Final_Report.ipynb` with markdown with the following sections:\n",
    "- Intro\n",
    "- Project overview\n",
    "- Goals\n",
    "    - Find driver for customer churn at Telco. Why are customers churning?\n",
    "    - Make a report that non-data scientists can understand\n",
    "    - Target audience is your manager and their manager\n",
    "    - Make predictions here??\n",
    "- Exploration\n",
    "    - Summary\n",
    "        - [ ] Summarize your exploration section analysis (in a markdown cell using natural language): what you found and how you will use it moving forward. This includes key takeaways from all the questions answered in explore, a list of which features will be used in modeling and why, and which features will not move forward and why\n",
    "- Modeling - enhance markdown here\n",
    "    - Which eval metric did you use and why?\n",
    "    - Which performed the best and why?\n",
    "    - Add viz of best model showing its performance\n",
    "- Conclusion\n",
    "    - Goals achieved\n",
    "    - Key takeaways\n",
    "    - Next steps\n",
    "    - Prediction performance expectations\n",
    "    - Recommendations to reduce churn\n",
    "- Etc.\n",
    "Walk through and explain what you did to prepare the data and answer each viz/test individually"
   ]
  },
  {
   "cell_type": "markdown",
   "id": "180a5c05-ecca-452a-91ca-b73e620e546f",
   "metadata": {},
   "source": [
    "## Clean Up\n",
    "- Comment out code including .py files\n",
    "- Make Readme (.md) file"
   ]
  },
  {
   "cell_type": "markdown",
   "id": "c44bccde-b159-4313-8cba-5af1cd41701f",
   "metadata": {},
   "source": [
    "## Practice 5 minute presentation\n",
    "- Be ready to answer questions about the following:\n",
    "     - Code\n",
    "     - Process\n",
    "     - Findings\n",
    "     - Key takeaways\n",
    "     - Model\n",
    "     \n",
    "- [ ] Speaker kicks off the presentation by introducing themselves and their project through a one-liner of what it's about.\n",
    "- [ ] Way you communicate should be appropriate for the audience: volume, speed of talk, flow, professionalism. (Codeup Data Science Instructor Team, virtually delivered via jupyter notebook)\n",
    "- [ ] Notebook talked through step-by-step, in an understandable and meaningful way. Extraneous content in the notebook is not present.\n",
    "    - [ ]  All visualizations in the final report are mentioned or discussed\n",
    "- [ ] Presentation is concluded with a summary of what was found, recommendations, and next steps.\n",
    "- [ ] Time limit is adhered to\n",
    "    - [ ] Appropriate time spent on each section\n",
    "    - [ ] Not by talking quickly but by reducing the amount or depth of information conveyed\n",
    "    - [ ] Speech should be natural, and take the time needed for the audience to consume the information\n",
    "    - [ ] Time not spent scrolling through 10's of visualizations or hundreds of lines of code"
   ]
  },
  {
   "cell_type": "markdown",
   "id": "c92963b2-d4eb-4943-b96c-eb8fe21b8713",
   "metadata": {},
   "source": [
    "- Use needs to have their own env.py file with 'password', 'host', and 'user' for username to access Codeup database."
   ]
  },
  {
   "cell_type": "code",
   "execution_count": null,
   "id": "f817b76b-b69f-4fbc-ae3b-78e192c66969",
   "metadata": {},
   "outputs": [],
   "source": []
  }
 ],
 "metadata": {
  "kernelspec": {
   "display_name": "Python 3 (ipykernel)",
   "language": "python",
   "name": "python3"
  },
  "language_info": {
   "codemirror_mode": {
    "name": "ipython",
    "version": 3
   },
   "file_extension": ".py",
   "mimetype": "text/x-python",
   "name": "python",
   "nbconvert_exporter": "python",
   "pygments_lexer": "ipython3",
   "version": "3.9.7"
  }
 },
 "nbformat": 4,
 "nbformat_minor": 5
}
