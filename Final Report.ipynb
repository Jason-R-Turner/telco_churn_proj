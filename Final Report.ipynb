{
 "cells": [
  {
   "cell_type": "markdown",
   "id": "fcd42fee-7ed7-42bc-937f-161eca4c24a5",
   "metadata": {},
   "source": [
    "# Intro for Telco Co Classification project\n",
    "#### by Jason R. Turner\n",
    "#### Codeup Student\n",
    "##### May 26, 2022"
   ]
  },
  {
   "cell_type": "code",
   "execution_count": 3,
   "id": "d6fe1cbd-2f07-4ef5-a58d-3de2dcc38648",
   "metadata": {},
   "outputs": [],
   "source": [
    "# prepare\n",
    "import pandas as pd\n",
    "import numpy as np\n",
    "import acquire\n",
    "import prep\n",
    "\n",
    "# visualize and explore\n",
    "import matplotlib.pyplot as plt\n",
    "import seaborn as sns\n",
    "plt.rc('figure', figsize=(8, 6))\n",
    "plt.rc('font', size=13)\n",
    "from scipy import stats\n",
    "\n",
    "# turn off pink warning boxes\n",
    "import warnings\n",
    "warnings.filterwarnings(\"ignore\")\n",
    "\n",
    "# acquire\n",
    "import env"
   ]
  },
  {
   "cell_type": "markdown",
   "id": "a5598318-9be3-4c61-acef-7062a2fbc19a",
   "metadata": {
    "tags": []
   },
   "source": [
    "## Project overview\n",
    "- This is a data science project using the telcoCo data set from the Codeup database that demonstrates using Python, Jupyter notebook, creating modueles, and using Github.\n",
    "- It shows the process of using the data science pipeline to plan, acquire, prepare, explore, model, and present the data in a 5 minute presentation.\n",
    "- The presentation is directed towards the direct manager and their manager with the intent of better understanding the reasons behind customer churn to include expaining why, what, and how I began my investigation and came to a conclusion with key takeaways.\n",
    "- The reason why I decided to build this project by asking these questions is because I believe these may be overlooked areas that could show some easier ways we could lower churn"
   ]
  },
  {
   "cell_type": "markdown",
   "id": "dee65c57-eee1-4b27-9359-6e2bb99eeac7",
   "metadata": {},
   "source": [
    "## Project Plan:\n",
    "The plan is to use our access to the Codeup database to acquire data which we'll use to figure out why customers at the Telco Co are churning.\n",
    "Once we've written the proper python code in a module to acquire the data that we want we'll run it and save it as a cache to our local computer.\n",
    "From there we'll use another module which we'll use to prepare our data by splitting it up into three separate groups making sure that the variable we want, which is churn is evenly distributed.\n",
    "The three groups will be train, our largest group, validate, and test.\n",
    "Depending on the question we're asking we'll run various statistical tests and produce visualizations to help us better understand the data.\n",
    "Once we're ready to model our data we will encode it into numbers that our machine learning algorithms can accept.\n",
    "We'll select appropriate models that can be run based on the kind of data that we're dealing with.\n",
    "We'll run it through multiple machine models till we come up with our best ones.\n",
    "We'll use run the model using our validate set to further narrow these down to our single best model.\n",
    "We'll then use our untouched test set with the best model to make our best predictions."
   ]
  },
  {
   "cell_type": "markdown",
   "id": "7628bf65-f0c1-449e-94a1-0f1dd69281d6",
   "metadata": {},
   "source": [
    "## Goals\n",
    "- To uncover the main reasons why customers churn here at Telco\n",
    "- To create a report that non-data scientists can understand by asking the following:\n",
    "1. Do customers who use Tech Support churn at a significantly different rate and if so is it more or less?\n",
    "\n",
    "2. What are the rates of churn of 1 and 2 year contracts both before and after fullfilling their obligations as compared to month-to-month contracts?\n",
    "\n",
    "3. What groups of customers pay the most in monthly charges but aren't churning?\n",
    "    \n",
    "4. Is there a significant difference in correlation between monthly charges and tenure for customers churn vs those who do not?"
   ]
  },
  {
   "cell_type": "markdown",
   "id": "8c611d5d-4c17-4c5c-9795-adb0b18a4e3a",
   "metadata": {
    "tags": []
   },
   "source": [
    "## Exploration"
   ]
  },
  {
   "cell_type": "code",
   "execution_count": 6,
   "id": "92a23b8d-61a7-4570-ac19-09c6bb3372b4",
   "metadata": {},
   "outputs": [
    {
     "data": {
      "text/html": [
       "<div>\n",
       "<style scoped>\n",
       "    .dataframe tbody tr th:only-of-type {\n",
       "        vertical-align: middle;\n",
       "    }\n",
       "\n",
       "    .dataframe tbody tr th {\n",
       "        vertical-align: top;\n",
       "    }\n",
       "\n",
       "    .dataframe thead th {\n",
       "        text-align: right;\n",
       "    }\n",
       "</style>\n",
       "<table border=\"1\" class=\"dataframe\">\n",
       "  <thead>\n",
       "    <tr style=\"text-align: right;\">\n",
       "      <th></th>\n",
       "      <th>payment_type_id</th>\n",
       "      <th>internet_service_type_id</th>\n",
       "      <th>contract_type_id</th>\n",
       "      <th>customer_id</th>\n",
       "      <th>gender</th>\n",
       "      <th>senior_citizen</th>\n",
       "      <th>partner</th>\n",
       "      <th>dependents</th>\n",
       "      <th>tenure</th>\n",
       "      <th>phone_service</th>\n",
       "      <th>...</th>\n",
       "      <th>tech_support</th>\n",
       "      <th>streaming_tv</th>\n",
       "      <th>streaming_movies</th>\n",
       "      <th>paperless_billing</th>\n",
       "      <th>monthly_charges</th>\n",
       "      <th>total_charges</th>\n",
       "      <th>churn</th>\n",
       "      <th>contract_type</th>\n",
       "      <th>internet_service_type</th>\n",
       "      <th>payment_type</th>\n",
       "    </tr>\n",
       "  </thead>\n",
       "  <tbody>\n",
       "    <tr>\n",
       "      <th>0</th>\n",
       "      <td>2</td>\n",
       "      <td>1</td>\n",
       "      <td>2</td>\n",
       "      <td>0002-ORFBO</td>\n",
       "      <td>Female</td>\n",
       "      <td>0</td>\n",
       "      <td>Yes</td>\n",
       "      <td>Yes</td>\n",
       "      <td>9</td>\n",
       "      <td>Yes</td>\n",
       "      <td>...</td>\n",
       "      <td>Yes</td>\n",
       "      <td>Yes</td>\n",
       "      <td>No</td>\n",
       "      <td>Yes</td>\n",
       "      <td>65.60</td>\n",
       "      <td>593.3</td>\n",
       "      <td>No</td>\n",
       "      <td>One year</td>\n",
       "      <td>DSL</td>\n",
       "      <td>Mailed check</td>\n",
       "    </tr>\n",
       "    <tr>\n",
       "      <th>1</th>\n",
       "      <td>2</td>\n",
       "      <td>1</td>\n",
       "      <td>1</td>\n",
       "      <td>0003-MKNFE</td>\n",
       "      <td>Male</td>\n",
       "      <td>0</td>\n",
       "      <td>No</td>\n",
       "      <td>No</td>\n",
       "      <td>9</td>\n",
       "      <td>Yes</td>\n",
       "      <td>...</td>\n",
       "      <td>No</td>\n",
       "      <td>No</td>\n",
       "      <td>Yes</td>\n",
       "      <td>No</td>\n",
       "      <td>59.90</td>\n",
       "      <td>542.4</td>\n",
       "      <td>No</td>\n",
       "      <td>Month-to-month</td>\n",
       "      <td>DSL</td>\n",
       "      <td>Mailed check</td>\n",
       "    </tr>\n",
       "    <tr>\n",
       "      <th>2</th>\n",
       "      <td>1</td>\n",
       "      <td>2</td>\n",
       "      <td>1</td>\n",
       "      <td>0004-TLHLJ</td>\n",
       "      <td>Male</td>\n",
       "      <td>0</td>\n",
       "      <td>No</td>\n",
       "      <td>No</td>\n",
       "      <td>4</td>\n",
       "      <td>Yes</td>\n",
       "      <td>...</td>\n",
       "      <td>No</td>\n",
       "      <td>No</td>\n",
       "      <td>No</td>\n",
       "      <td>Yes</td>\n",
       "      <td>73.90</td>\n",
       "      <td>280.85</td>\n",
       "      <td>Yes</td>\n",
       "      <td>Month-to-month</td>\n",
       "      <td>Fiber optic</td>\n",
       "      <td>Electronic check</td>\n",
       "    </tr>\n",
       "    <tr>\n",
       "      <th>3</th>\n",
       "      <td>1</td>\n",
       "      <td>2</td>\n",
       "      <td>1</td>\n",
       "      <td>0011-IGKFF</td>\n",
       "      <td>Male</td>\n",
       "      <td>1</td>\n",
       "      <td>Yes</td>\n",
       "      <td>No</td>\n",
       "      <td>13</td>\n",
       "      <td>Yes</td>\n",
       "      <td>...</td>\n",
       "      <td>No</td>\n",
       "      <td>Yes</td>\n",
       "      <td>Yes</td>\n",
       "      <td>Yes</td>\n",
       "      <td>98.00</td>\n",
       "      <td>1237.85</td>\n",
       "      <td>Yes</td>\n",
       "      <td>Month-to-month</td>\n",
       "      <td>Fiber optic</td>\n",
       "      <td>Electronic check</td>\n",
       "    </tr>\n",
       "    <tr>\n",
       "      <th>4</th>\n",
       "      <td>2</td>\n",
       "      <td>2</td>\n",
       "      <td>1</td>\n",
       "      <td>0013-EXCHZ</td>\n",
       "      <td>Female</td>\n",
       "      <td>1</td>\n",
       "      <td>Yes</td>\n",
       "      <td>No</td>\n",
       "      <td>3</td>\n",
       "      <td>Yes</td>\n",
       "      <td>...</td>\n",
       "      <td>Yes</td>\n",
       "      <td>Yes</td>\n",
       "      <td>No</td>\n",
       "      <td>Yes</td>\n",
       "      <td>83.90</td>\n",
       "      <td>267.4</td>\n",
       "      <td>Yes</td>\n",
       "      <td>Month-to-month</td>\n",
       "      <td>Fiber optic</td>\n",
       "      <td>Mailed check</td>\n",
       "    </tr>\n",
       "    <tr>\n",
       "      <th>...</th>\n",
       "      <td>...</td>\n",
       "      <td>...</td>\n",
       "      <td>...</td>\n",
       "      <td>...</td>\n",
       "      <td>...</td>\n",
       "      <td>...</td>\n",
       "      <td>...</td>\n",
       "      <td>...</td>\n",
       "      <td>...</td>\n",
       "      <td>...</td>\n",
       "      <td>...</td>\n",
       "      <td>...</td>\n",
       "      <td>...</td>\n",
       "      <td>...</td>\n",
       "      <td>...</td>\n",
       "      <td>...</td>\n",
       "      <td>...</td>\n",
       "      <td>...</td>\n",
       "      <td>...</td>\n",
       "      <td>...</td>\n",
       "      <td>...</td>\n",
       "    </tr>\n",
       "    <tr>\n",
       "      <th>7038</th>\n",
       "      <td>2</td>\n",
       "      <td>1</td>\n",
       "      <td>2</td>\n",
       "      <td>9987-LUTYD</td>\n",
       "      <td>Female</td>\n",
       "      <td>0</td>\n",
       "      <td>No</td>\n",
       "      <td>No</td>\n",
       "      <td>13</td>\n",
       "      <td>Yes</td>\n",
       "      <td>...</td>\n",
       "      <td>Yes</td>\n",
       "      <td>No</td>\n",
       "      <td>No</td>\n",
       "      <td>No</td>\n",
       "      <td>55.15</td>\n",
       "      <td>742.9</td>\n",
       "      <td>No</td>\n",
       "      <td>One year</td>\n",
       "      <td>DSL</td>\n",
       "      <td>Mailed check</td>\n",
       "    </tr>\n",
       "    <tr>\n",
       "      <th>7039</th>\n",
       "      <td>1</td>\n",
       "      <td>2</td>\n",
       "      <td>1</td>\n",
       "      <td>9992-RRAMN</td>\n",
       "      <td>Male</td>\n",
       "      <td>0</td>\n",
       "      <td>Yes</td>\n",
       "      <td>No</td>\n",
       "      <td>22</td>\n",
       "      <td>Yes</td>\n",
       "      <td>...</td>\n",
       "      <td>No</td>\n",
       "      <td>No</td>\n",
       "      <td>Yes</td>\n",
       "      <td>Yes</td>\n",
       "      <td>85.10</td>\n",
       "      <td>1873.7</td>\n",
       "      <td>Yes</td>\n",
       "      <td>Month-to-month</td>\n",
       "      <td>Fiber optic</td>\n",
       "      <td>Electronic check</td>\n",
       "    </tr>\n",
       "    <tr>\n",
       "      <th>7040</th>\n",
       "      <td>2</td>\n",
       "      <td>1</td>\n",
       "      <td>1</td>\n",
       "      <td>9992-UJOEL</td>\n",
       "      <td>Male</td>\n",
       "      <td>0</td>\n",
       "      <td>No</td>\n",
       "      <td>No</td>\n",
       "      <td>2</td>\n",
       "      <td>Yes</td>\n",
       "      <td>...</td>\n",
       "      <td>No</td>\n",
       "      <td>No</td>\n",
       "      <td>No</td>\n",
       "      <td>Yes</td>\n",
       "      <td>50.30</td>\n",
       "      <td>92.75</td>\n",
       "      <td>No</td>\n",
       "      <td>Month-to-month</td>\n",
       "      <td>DSL</td>\n",
       "      <td>Mailed check</td>\n",
       "    </tr>\n",
       "    <tr>\n",
       "      <th>7041</th>\n",
       "      <td>2</td>\n",
       "      <td>1</td>\n",
       "      <td>3</td>\n",
       "      <td>9993-LHIEB</td>\n",
       "      <td>Male</td>\n",
       "      <td>0</td>\n",
       "      <td>Yes</td>\n",
       "      <td>Yes</td>\n",
       "      <td>67</td>\n",
       "      <td>Yes</td>\n",
       "      <td>...</td>\n",
       "      <td>Yes</td>\n",
       "      <td>No</td>\n",
       "      <td>Yes</td>\n",
       "      <td>No</td>\n",
       "      <td>67.85</td>\n",
       "      <td>4627.65</td>\n",
       "      <td>No</td>\n",
       "      <td>Two year</td>\n",
       "      <td>DSL</td>\n",
       "      <td>Mailed check</td>\n",
       "    </tr>\n",
       "    <tr>\n",
       "      <th>7042</th>\n",
       "      <td>1</td>\n",
       "      <td>1</td>\n",
       "      <td>3</td>\n",
       "      <td>9995-HOTOH</td>\n",
       "      <td>Male</td>\n",
       "      <td>0</td>\n",
       "      <td>Yes</td>\n",
       "      <td>Yes</td>\n",
       "      <td>63</td>\n",
       "      <td>No</td>\n",
       "      <td>...</td>\n",
       "      <td>No</td>\n",
       "      <td>Yes</td>\n",
       "      <td>Yes</td>\n",
       "      <td>No</td>\n",
       "      <td>59.00</td>\n",
       "      <td>3707.6</td>\n",
       "      <td>No</td>\n",
       "      <td>Two year</td>\n",
       "      <td>DSL</td>\n",
       "      <td>Electronic check</td>\n",
       "    </tr>\n",
       "  </tbody>\n",
       "</table>\n",
       "<p>7043 rows × 24 columns</p>\n",
       "</div>"
      ],
      "text/plain": [
       "      payment_type_id  internet_service_type_id  contract_type_id customer_id  \\\n",
       "0                   2                         1                 2  0002-ORFBO   \n",
       "1                   2                         1                 1  0003-MKNFE   \n",
       "2                   1                         2                 1  0004-TLHLJ   \n",
       "3                   1                         2                 1  0011-IGKFF   \n",
       "4                   2                         2                 1  0013-EXCHZ   \n",
       "...               ...                       ...               ...         ...   \n",
       "7038                2                         1                 2  9987-LUTYD   \n",
       "7039                1                         2                 1  9992-RRAMN   \n",
       "7040                2                         1                 1  9992-UJOEL   \n",
       "7041                2                         1                 3  9993-LHIEB   \n",
       "7042                1                         1                 3  9995-HOTOH   \n",
       "\n",
       "      gender  senior_citizen partner dependents  tenure phone_service  ...  \\\n",
       "0     Female               0     Yes        Yes       9           Yes  ...   \n",
       "1       Male               0      No         No       9           Yes  ...   \n",
       "2       Male               0      No         No       4           Yes  ...   \n",
       "3       Male               1     Yes         No      13           Yes  ...   \n",
       "4     Female               1     Yes         No       3           Yes  ...   \n",
       "...      ...             ...     ...        ...     ...           ...  ...   \n",
       "7038  Female               0      No         No      13           Yes  ...   \n",
       "7039    Male               0     Yes         No      22           Yes  ...   \n",
       "7040    Male               0      No         No       2           Yes  ...   \n",
       "7041    Male               0     Yes        Yes      67           Yes  ...   \n",
       "7042    Male               0     Yes        Yes      63            No  ...   \n",
       "\n",
       "     tech_support streaming_tv streaming_movies paperless_billing  \\\n",
       "0             Yes          Yes               No               Yes   \n",
       "1              No           No              Yes                No   \n",
       "2              No           No               No               Yes   \n",
       "3              No          Yes              Yes               Yes   \n",
       "4             Yes          Yes               No               Yes   \n",
       "...           ...          ...              ...               ...   \n",
       "7038          Yes           No               No                No   \n",
       "7039           No           No              Yes               Yes   \n",
       "7040           No           No               No               Yes   \n",
       "7041          Yes           No              Yes                No   \n",
       "7042           No          Yes              Yes                No   \n",
       "\n",
       "     monthly_charges total_charges churn   contract_type  \\\n",
       "0              65.60         593.3    No        One year   \n",
       "1              59.90         542.4    No  Month-to-month   \n",
       "2              73.90        280.85   Yes  Month-to-month   \n",
       "3              98.00       1237.85   Yes  Month-to-month   \n",
       "4              83.90         267.4   Yes  Month-to-month   \n",
       "...              ...           ...   ...             ...   \n",
       "7038           55.15         742.9    No        One year   \n",
       "7039           85.10        1873.7   Yes  Month-to-month   \n",
       "7040           50.30         92.75    No  Month-to-month   \n",
       "7041           67.85       4627.65    No        Two year   \n",
       "7042           59.00        3707.6    No        Two year   \n",
       "\n",
       "      internet_service_type      payment_type  \n",
       "0                       DSL      Mailed check  \n",
       "1                       DSL      Mailed check  \n",
       "2               Fiber optic  Electronic check  \n",
       "3               Fiber optic  Electronic check  \n",
       "4               Fiber optic      Mailed check  \n",
       "...                     ...               ...  \n",
       "7038                    DSL      Mailed check  \n",
       "7039            Fiber optic  Electronic check  \n",
       "7040                    DSL      Mailed check  \n",
       "7041                    DSL      Mailed check  \n",
       "7042                    DSL  Electronic check  \n",
       "\n",
       "[7043 rows x 24 columns]"
      ]
     },
     "execution_count": 6,
     "metadata": {},
     "output_type": "execute_result"
    }
   ],
   "source": [
    "telco_df"
   ]
  },
  {
   "cell_type": "code",
   "execution_count": 5,
   "id": "51daeccd-84a4-4879-ad9a-8efc941b490e",
   "metadata": {},
   "outputs": [],
   "source": [
    "# using function from acquire module to access database and make a dataframe\n",
    "telco_df = acquire.get_telco_data()"
   ]
  },
  {
   "cell_type": "code",
   "execution_count": null,
   "id": "a9d04b86-fda8-405a-8598-adc67b1942b2",
   "metadata": {},
   "outputs": [],
   "source": [
    "# checking for any null values, which shows there are none.\n",
    "pd.isnull(telco_df).sum()"
   ]
  },
  {
   "cell_type": "code",
   "execution_count": null,
   "id": "1266dfdc-8470-4bdf-a317-cd6a162d2dad",
   "metadata": {},
   "outputs": [],
   "source": [
    "# splitting data into train, validate, and test dfs\n",
    "train, validate, test = prep.prep_telco(telco_df)"
   ]
  },
  {
   "cell_type": "markdown",
   "id": "f0aa0e8b-c0d8-4edb-951b-b60cea9e5bf1",
   "metadata": {
    "tags": []
   },
   "source": [
    "### Question 1 -  Do customers who use Tech Support churn at a significantly different rate and if so is it more or less?"
   ]
  },
  {
   "cell_type": "code",
   "execution_count": null,
   "id": "1d64160a-fba2-43c5-919f-e1be681252d1",
   "metadata": {},
   "outputs": [],
   "source": [
    "# setting α at 0.05 for a 95% confidence interval\n",
    "α = 0.05"
   ]
  },
  {
   "cell_type": "markdown",
   "id": "dced95b8-00ab-4902-bac0-d26a7926ddc1",
   "metadata": {},
   "source": [
    "- $H_0$ : Null hypothesis - \"Customers who use Tech Support do not churn at a rate significantly different than those who don't use Tech Support.\"\n",
    "- $H_a$ : Alternative hypothesis - \"Customers utilizing Tech Support churn at a significantly different rate than non-Tech Support users.\""
   ]
  },
  {
   "cell_type": "code",
   "execution_count": null,
   "id": "9c0c0069-f48e-4519-b39b-7273053c107f",
   "metadata": {},
   "outputs": [],
   "source": [
    "# creating a crosstabulation between Tech Support and Churn\n",
    "tech_sup_xtab = pd.crosstab(train.tech_support, train.churn)\n",
    "\n",
    "# displays crosstab results\n",
    "tech_sup_xtab"
   ]
  },
  {
   "cell_type": "markdown",
   "id": "12801511-3790-4579-a174-f904e29aed98",
   "metadata": {
    "tags": []
   },
   "source": [
    "### Comparing number of people using Tech Support in relation to churn"
   ]
  },
  {
   "cell_type": "code",
   "execution_count": null,
   "id": "bcbea33b-7d2e-4202-a257-7a9f49a10b6f",
   "metadata": {
    "tags": []
   },
   "outputs": [],
   "source": [
    "# creates a barplot from crosstab which compares churn rates and Tech Support\n",
    "barplot = tech_sup_xtab.plot.bar(rot=0)\n",
    "plt.title('Tech Support vs Churn')\n",
    "plt.ylabel('number of people')\n"
   ]
  },
  {
   "cell_type": "markdown",
   "id": "e0bc593f-f779-4c6d-b41f-2fb22d1a7a24",
   "metadata": {},
   "source": [
    "### $chi^2$ statistical test for categorical variables"
   ]
  },
  {
   "cell_type": "code",
   "execution_count": null,
   "id": "0d639661-d7f3-44a6-a768-abdca7238728",
   "metadata": {},
   "outputs": [],
   "source": [
    "# conducts chi square test for tech support crosstabulation assigning 4 \n",
    "# variables because the fx returns 4 values\n",
    "chi2, p, degf, expected = stats.chi2_contingency(tech_sup_xtab) \n",
    "# displays the p-value which we're looking for\n",
    "p"
   ]
  },
  {
   "cell_type": "code",
   "execution_count": null,
   "id": "ff7e559a-69cc-40cb-a86b-3fccf24aff84",
   "metadata": {},
   "outputs": [],
   "source": [
    "# if statement to print out result of our null hypothesis\n",
    "if p < α:\n",
    "        print(\"Reject the null hypothesis\")\n",
    "else:\n",
    "    print(\"Fail to reject the null hypothesis\")"
   ]
  },
  {
   "cell_type": "markdown",
   "id": "64d4f272-457a-4919-9484-c33e62c1b714",
   "metadata": {},
   "source": [
    "- **Answer 1** - I fail to reject the null hypothesis due to the extremely small p-value from given by the Chi Square statistical test which is well below the set alpha of 0.05. \n",
    "- Based on the crosstabulation and visualization it clearly shows that those with no Tech Support churn at a much higher rate than those who do receive Tech Support.\n",
    "- Key takeaway is that offering Tech support appears to significantly reduce the churn rate among customers.\n",
    "- Recommendation would be to make sure all customers know about Tech Support and make it easily accesible. Also make sure to offer Tech Support services to customers attempting to churn in circumstances where it makes sense."
   ]
  },
  {
   "cell_type": "markdown",
   "id": "12a8bf4b-8585-42f1-9d8a-0dfd37ef7937",
   "metadata": {},
   "source": [
    "### Question 2 - What are the differences in churn rates for 1 and 2 year contracts as compared to month-to-month contracts?"
   ]
  },
  {
   "cell_type": "code",
   "execution_count": null,
   "id": "59ca46b5-cce4-4f1c-acc2-c81557ed8307",
   "metadata": {
    "tags": []
   },
   "outputs": [],
   "source": [
    "# apparently contract is abbreviated with just \"K\" in law circles\n",
    "# creates a crosstab from train df with churn and contract type\n",
    "k_type_xtab = pd.crosstab(train.contract_type, train.churn)\n",
    "k_type_xtab"
   ]
  },
  {
   "cell_type": "code",
   "execution_count": null,
   "id": "6484f1ee-f2c9-4473-922d-290541601f8e",
   "metadata": {
    "tags": []
   },
   "outputs": [],
   "source": [
    "# conducts chi square test for contract types crosstabulation assigning 4 \n",
    "# variables because the fx returns 4 values\n",
    "chi2, p, degf, expected = stats.chi2_contingency(k_type_xtab)\n",
    "\n",
    "# returns the p-value that we're looking for \n",
    "p"
   ]
  },
  {
   "cell_type": "markdown",
   "id": "aa12e74c-c970-4288-abe4-fab71ff978ff",
   "metadata": {},
   "source": [
    "### Comparing the differences between month-to-month and yearly plans"
   ]
  },
  {
   "cell_type": "code",
   "execution_count": null,
   "id": "0687536d-3ba3-44fd-b27f-dd15826f04d9",
   "metadata": {},
   "outputs": [],
   "source": [
    "# creates a bar plot for our churn against contract types\n",
    "barplot = k_type_xtab.plot.bar(rot=0)\n",
    "plt.title('Churn vs Contracts')\n",
    "plt.ylabel('number of customers')"
   ]
  },
  {
   "cell_type": "code",
   "execution_count": null,
   "id": "b02597e3-d29f-4e7c-a389-58fe4abe87a7",
   "metadata": {
    "tags": []
   },
   "outputs": [],
   "source": [
    "# puts customers who've been with telco for 2 or more years in a new df\n",
    "two_yrs_plus = train[train.tenure >= 24]"
   ]
  },
  {
   "cell_type": "code",
   "execution_count": null,
   "id": "b0bcba8c-0607-47fc-a8d4-62bd7452a885",
   "metadata": {},
   "outputs": [],
   "source": [
    "# selects customers who also had the two yr contract\n",
    "k_type_3x2yrs_plus = two_yrs_plus[two_yrs_plus.contract_type_id == 3]"
   ]
  },
  {
   "cell_type": "code",
   "execution_count": null,
   "id": "50947c72-7cd3-4805-9f18-8b7f94a41a59",
   "metadata": {},
   "outputs": [],
   "source": [
    "# crosstabs and returns churn with 2 yr contract customers with 24+ months\n",
    "k_type_3x2yrs_plus_xtab = pd.crosstab(k_type_3x2yrs_plus.contract_type, k_type_3x2yrs_plus.churn)\n",
    "k_type_3x2yrs_plus_xtab"
   ]
  },
  {
   "cell_type": "code",
   "execution_count": null,
   "id": "9945f3f3-33d7-4ae8-9faa-69f305d91cfc",
   "metadata": {},
   "outputs": [],
   "source": [
    "# puts customers who've been with telco for 2 or more years in a new df\n",
    "lessthan_2yrs = train[train.tenure < 24]"
   ]
  },
  {
   "cell_type": "code",
   "execution_count": null,
   "id": "80d145cf-6bb5-4b20-bc0a-206702f22140",
   "metadata": {},
   "outputs": [],
   "source": [
    "# selects customers who also had the two yr contract\n",
    "k_type_3xlessthan_2yrs = lessthan_2yrs[lessthan_2yrs.contract_type_id == 3]"
   ]
  },
  {
   "cell_type": "code",
   "execution_count": null,
   "id": "bc6810cf-5627-4e72-bbb3-27c7f6150f74",
   "metadata": {},
   "outputs": [],
   "source": [
    "# crosstabs and returns churn with 2 yr contract customers with <24 months\n",
    "k_type_3xlessthan_2yrs_xtab = pd.crosstab(k_type_3xlessthan_2yrs.contract_type, k_type_3xlessthan_2yrs.churn)\n",
    "k_type_3xlessthan_2yrs_xtab"
   ]
  },
  {
   "cell_type": "code",
   "execution_count": null,
   "id": "7dcc196b-eb8f-477c-8425-242e9d991e49",
   "metadata": {},
   "outputs": [],
   "source": [
    "# puts customers who've been with telco for 1 or more years in a new df\n",
    "one_yr_plus = train[train.tenure >= 12]"
   ]
  },
  {
   "cell_type": "code",
   "execution_count": null,
   "id": "5ef39ee0-13cb-4a72-8e8d-488718653cce",
   "metadata": {},
   "outputs": [],
   "source": [
    "# selects customers who also had the 1 yr contract\n",
    "k_type_2x1yr_plus = one_yr_plus[one_yr_plus.contract_type_id == 2]"
   ]
  },
  {
   "cell_type": "code",
   "execution_count": null,
   "id": "cc3a7a38-e416-4c44-bc43-c5c9bd54ff67",
   "metadata": {},
   "outputs": [],
   "source": [
    "# crosstabs and returns churn with 2 yr contract customers with 12+ months\n",
    "k_type_2x1yr_plus_xtab = pd.crosstab(k_type_2x1yr_plus.contract_type, k_type_2x1yr_plus.churn)\n",
    "k_type_2x1yr_plus_xtab"
   ]
  },
  {
   "cell_type": "code",
   "execution_count": null,
   "id": "2eedbde5-e1d9-43f6-99cf-3156641ffebe",
   "metadata": {},
   "outputs": [],
   "source": [
    "# puts customers who've been with telco for less than 1 yr in a new df\n",
    "lessthan_1yr = train[train.tenure < 12]"
   ]
  },
  {
   "cell_type": "code",
   "execution_count": null,
   "id": "9d0769d6-f816-4511-9647-a863e92b7dbd",
   "metadata": {},
   "outputs": [],
   "source": [
    "# selects customers who also had the 1 yr contract\n",
    "k_type_2xlessthan_1yr = lessthan_1yr[lessthan_1yr.contract_type_id == 2]"
   ]
  },
  {
   "cell_type": "code",
   "execution_count": null,
   "id": "d4357bff-954e-4a99-862e-3bd616920ef7",
   "metadata": {},
   "outputs": [],
   "source": [
    "# crosstabs and returns churn with 2 yr contract customers with <12 months\n",
    "k_type_2xlessthan_1yr_xtab = pd.crosstab(k_type_2xlessthan_1yr.contract_type, k_type_2xlessthan_1yr.churn)\n",
    "k_type_2xlessthan_1yr_xtab"
   ]
  },
  {
   "cell_type": "code",
   "execution_count": null,
   "id": "5bada191-7f38-4edb-a9a0-503961d71659",
   "metadata": {},
   "outputs": [],
   "source": [
    "# puts customers who've been with telco for 1 or more months in a new df\n",
    "one_mo_plus = train[train.tenure >= 1]\n",
    "\n",
    "# selects customers who had the month-to-month contract\n",
    "k_type_1x1_mo_plus = one_mo_plus[one_mo_plus.contract_type_id == 1]"
   ]
  },
  {
   "cell_type": "code",
   "execution_count": null,
   "id": "3145921e-1a0a-4e35-8816-2560474ec49c",
   "metadata": {},
   "outputs": [],
   "source": [
    "# crosstabs and returns churn with 2 yr contract customers with 1+ months\n",
    "k_type_1x1_mo_plus_xtab = pd.crosstab(k_type_1x1_mo_plus.contract_type, k_type_1x1_mo_plus.churn)\n",
    "k_type_1x1_mo_plus_xtab"
   ]
  },
  {
   "cell_type": "code",
   "execution_count": null,
   "id": "682c991b-b3cf-44e5-839b-9dc40fa30772",
   "metadata": {},
   "outputs": [],
   "source": [
    "# puts customers who've been with telco for less than 1 month in a new df\n",
    "lessthan_1mo = train[train.tenure < 1]\n",
    "\n",
    "# selects customers who had the month-to-month contract\n",
    "k_type_1xlessthan_1mo = lessthan_1mo[lessthan_1mo.contract_type_id == 1]\n",
    "lessthan_1mo\n",
    "\n",
    "# *Note* there's no month-to-month customers with less than a month of service \n",
    "# but there are for 1 yr and 2 yr contracts in this training set"
   ]
  },
  {
   "cell_type": "code",
   "execution_count": null,
   "id": "d422c8af-58a5-49b6-a003-d7392a9b458a",
   "metadata": {},
   "outputs": [],
   "source": [
    "# merges and return the previous crosstabs together into a new df\n",
    "merged_df = pd.concat([k_type_3x2yrs_plus_xtab, k_type_3xlessthan_2yrs_xtab, k_type_2x1yr_plus_xtab, k_type_2xlessthan_1yr_xtab, k_type_1x1_mo_plus_xtab])\n",
    "merged_df\n",
    "\n",
    "# *Note* used merged_df.fillna(0) to fill in null from merge and it should be 0\n",
    "# but cut code because it still doesn't have enough values to run chi^2 test"
   ]
  },
  {
   "cell_type": "code",
   "execution_count": null,
   "id": "3e59339f-9db4-445c-a65a-c93e426a3697",
   "metadata": {},
   "outputs": [],
   "source": [
    "# attempted chi2 test but it failed for all assigned variables due to lack of\n",
    "# enough Yes churn values\n",
    "chi2, p, degf, expected = stats.chi2_contingency(merged_df)\n",
    "p"
   ]
  },
  {
   "cell_type": "markdown",
   "id": "e7ae1a51-6925-4618-88df-f0925fdc873b",
   "metadata": {},
   "source": [
    "### Comparing churners who stay for their contract length vs those who don't"
   ]
  },
  {
   "cell_type": "code",
   "execution_count": null,
   "id": "66e3684d-2501-4637-881d-826c07dcbaf4",
   "metadata": {},
   "outputs": [],
   "source": [
    "# bar plot showing churn for each of the categories\n",
    "merged_df.plot.bar(rot=0)\n",
    "plt.title('Churn vs Contracts >= or < 2 Years or 1 Year Respectively')\n",
    "plt.ylabel('Number of Customers')"
   ]
  },
  {
   "cell_type": "markdown",
   "id": "28f92874-9e2a-425c-84da-953afb5baf3d",
   "metadata": {},
   "source": [
    "- **Answer 2** - I found differences in the churn rates of customers who did and didn't fulfill the obligated length of their contracts\n",
    "- Those who stayed for the length of their 1 or 2 year contracts had a higher churn rates compared those who haven't finished their contract.\n",
    "- Month-to-month customers had much higher rates of churn compared to the longer contracts\n",
    "- The training data shows no month-to-month customers staying for less than a month but there were some from the 1 and 2 year contracts.\n",
    "- The barplot shows the comparison of the different contract types we have.\n",
    "- Key takeaways are that month-to-month customers churn at a much higher rate than other contract types.  Two year contracts appear to have the best retention rates.\n",
    "- Recommendation would be to offer incentives for month-to-month customers to become one or preferably two year contract customers."
   ]
  },
  {
   "cell_type": "markdown",
   "id": "0fb38107-eab7-4ac0-b420-5b3614e98cc3",
   "metadata": {},
   "source": [
    "### Question 3 - What groups of customers pay the most in monthly charges but aren't churning?"
   ]
  },
  {
   "cell_type": "code",
   "execution_count": null,
   "id": "ec5542a7-c179-4d7d-b4ff-ac7652e2930f",
   "metadata": {},
   "outputs": [],
   "source": [
    "import math\n",
    "from sklearn.model_selection import train_test_split\n",
    "from sklearn.tree import DecisionTreeClassifier, plot_tree\n",
    "from sklearn.ensemble import RandomForestClassifier\n",
    "from sklearn.neighbors import KNeighborsClassifier\n",
    "from sklearn.metrics import classification_report\n",
    "from sklearn.metrics import confusion_matrix"
   ]
  },
  {
   "cell_type": "code",
   "execution_count": null,
   "id": "a8d2b678-9b1f-4100-9e15-d0b38e6a667b",
   "metadata": {},
   "outputs": [],
   "source": [
    "# Average monthly charges for train data\n",
    "train.monthly_charges.mean()"
   ]
  },
  {
   "cell_type": "code",
   "execution_count": null,
   "id": "f07196de-4fa9-4b73-9481-e664e58ca118",
   "metadata": {},
   "outputs": [],
   "source": [
    "# Total percentage of churn for train data\n",
    "((train.churn == 'Yes').sum()/len(train))"
   ]
  },
  {
   "cell_type": "code",
   "execution_count": null,
   "id": "69c61a61-a7d4-4560-b4f8-9911a7284195",
   "metadata": {},
   "outputs": [],
   "source": [
    "# gets the top 5% on customers with highest monthly charges\n",
    "top_5_pct = train.nlargest(math.floor(.05*(len(train))),'monthly_charges')"
   ]
  },
  {
   "cell_type": "code",
   "execution_count": null,
   "id": "cfe0fafe-2ce7-4af8-a795-3ba7d6690992",
   "metadata": {},
   "outputs": [],
   "source": [
    "# Average of the top 5% of monthly charges from train data\n",
    "top_5_pct.monthly_charges.mean()"
   ]
  },
  {
   "cell_type": "code",
   "execution_count": null,
   "id": "d735d96e-ea7c-4108-97c1-0915c04dd495",
   "metadata": {},
   "outputs": [],
   "source": [
    "# crosstabulation of customers with the top 5% in monthly charges with churn\n",
    "top_5_pct_xtab = pd.crosstab(top_5_pct.shape[0], top_5_pct.churn)\n",
    "top_5_pct_xtab"
   ]
  },
  {
   "cell_type": "markdown",
   "id": "335ac0ca-22ea-4f71-9c63-9469d49816e0",
   "metadata": {},
   "source": [
    "### Bar chart showing the churn rate of the top 5% highest monthly charges"
   ]
  },
  {
   "cell_type": "code",
   "execution_count": null,
   "id": "6f485fc7-3953-4b18-882d-dffeae488742",
   "metadata": {},
   "outputs": [],
   "source": [
    "# bar plot showing differences in churn for top 5%\n",
    "top_5_pct_xtab.plot.bar(rot=0)\n",
    "plt.title('Churn for Top 5% of Monthly Charges')\n",
    "plt.ylabel('number of people')\n",
    "plt.xlabel('total people')"
   ]
  },
  {
   "cell_type": "code",
   "execution_count": null,
   "id": "77f87bf1-20e3-4261-a310-3e508436d93e",
   "metadata": {},
   "outputs": [],
   "source": [
    "# Gets top 5% from those who don't churn\n",
    "top_5_pct_no_churn = top_5_pct[top_5_pct.churn == 'No']"
   ]
  },
  {
   "cell_type": "code",
   "execution_count": null,
   "id": "b839e2a4-aa81-4771-a948-8e9f9448d14b",
   "metadata": {},
   "outputs": [],
   "source": [
    "# pre-processes only the categorical variables of top 5% df\n",
    "clean_top_5_pct = prep.clean_telco_cat(top_5_pct)"
   ]
  },
  {
   "cell_type": "code",
   "execution_count": null,
   "id": "f6518fea-9bd4-4eee-b3d3-8692d7b67d72",
   "metadata": {},
   "outputs": [],
   "source": [
    "# pre-processes our explored data sets for machine learning\n",
    "retrain = prep.clean_telco_cat(train)\n",
    "revalidate = prep.clean_telco_cat(validate)\n",
    "retest = prep.clean_telco_cat(test)"
   ]
  },
  {
   "cell_type": "code",
   "execution_count": null,
   "id": "9680fa17-5609-4909-867b-a20ded31db37",
   "metadata": {},
   "outputs": [],
   "source": [
    "# splits our training set into x and y values to run in our algorithms\n",
    "X_train = retrain.drop(columns=['churn_Yes'])\n",
    "y_train = retrain['churn_Yes']\n",
    "\n",
    "# splits our validate set into x and y values to run in our algorithms\n",
    "X_validate = revalidate.drop(columns=['churn_Yes'])\n",
    "y_validate = revalidate['churn_Yes']\n",
    "\n",
    "# splits our test set into x and y values to run in our algorithms\n",
    "X_test = retest.drop(columns=['churn_Yes'])\n",
    "y_test = retest['churn_Yes']"
   ]
  },
  {
   "cell_type": "code",
   "execution_count": null,
   "id": "96707779-175d-434f-80a4-40dc833b8ec6",
   "metadata": {},
   "outputs": [],
   "source": [
    "# returns the most common answer for churn_Yes, which is 0 meaning our baseline\n",
    "# is that they won't churn\n",
    "baseline = y_train.mode()\n",
    "baseline"
   ]
  },
  {
   "cell_type": "code",
   "execution_count": null,
   "id": "32963d5e-d187-42a4-aa3c-802bcc405c51",
   "metadata": {},
   "outputs": [],
   "source": [
    "# calculates our expected baseline accuracy\n",
    "matches_baseline_prediction = y_train == 0\n",
    "baseline_accuracy = matches_baseline_prediction.mean()\n",
    "baseline_accuracy"
   ]
  },
  {
   "cell_type": "code",
   "execution_count": null,
   "id": "6435e5f1-0cba-47b6-9c2d-3fb40701a309",
   "metadata": {},
   "outputs": [],
   "source": [
    "# makes a Random Forest model six steps deep\n",
    "reforest = RandomForestClassifier(max_depth=6, random_state=321)"
   ]
  },
  {
   "cell_type": "code",
   "execution_count": null,
   "id": "b8dd6f85-4032-4131-aaa1-04c9b006ebfb",
   "metadata": {},
   "outputs": [],
   "source": [
    "# fits our training set into our RF algorithm model\n",
    "reforest.fit(X_train, y_train)"
   ]
  },
  {
   "cell_type": "code",
   "execution_count": null,
   "id": "f53be11d-c146-46df-b92f-227f04368da9",
   "metadata": {},
   "outputs": [],
   "source": [
    "# shows the relative percentages out of 1 of the weight of each feature in the\n",
    "# model\n",
    "np.round(reforest.feature_importances_, 3)"
   ]
  },
  {
   "cell_type": "code",
   "execution_count": null,
   "id": "939f27c0-6704-400f-b861-57e0f3277b03",
   "metadata": {},
   "outputs": [],
   "source": [
    "# makes a prediction for each value based on our training data\n",
    "y_pred = reforest.predict(X_train)"
   ]
  },
  {
   "cell_type": "code",
   "execution_count": null,
   "id": "bb5190e1-dfc0-4b65-9ae4-9d921c1b50c0",
   "metadata": {},
   "outputs": [],
   "source": [
    "# gives the probabilities the model gave for each value it used to make a prediction\n",
    "y_pred_proba = reforest.predict_proba(X_train)"
   ]
  },
  {
   "cell_type": "code",
   "execution_count": null,
   "id": "e3e2518b-21cf-4757-93f4-7208d2d9f50c",
   "metadata": {},
   "outputs": [],
   "source": [
    "# prints out an accuracy score statement for random forest on the training set\n",
    "print('Accuracy of random forest classifier on training set: {:.2f}'\n",
    "     .format(reforest.score(X_train, y_train)))"
   ]
  },
  {
   "cell_type": "code",
   "execution_count": null,
   "id": "cfc1df2d-c37b-4b67-990d-90acbc2718be",
   "metadata": {},
   "outputs": [],
   "source": [
    "# gives us a confusion matrix based on the predictive outcome it had for each value\n",
    "print(confusion_matrix(y_train, y_pred))"
   ]
  },
  {
   "cell_type": "code",
   "execution_count": null,
   "id": "16025b6b-99ce-4e11-8780-08d1857a9a81",
   "metadata": {},
   "outputs": [],
   "source": [
    "# prints out a report showing the recall, precision, and accuracy for the number\n",
    "# of values that fell into each outcome.\n",
    "print(classification_report(y_train, y_pred))"
   ]
  },
  {
   "cell_type": "code",
   "execution_count": null,
   "id": "7e4190a4-032a-471c-90c5-704d69289735",
   "metadata": {},
   "outputs": [],
   "source": [
    "# prints out an accuracy score statement for random forest for the validate set\n",
    "print('Accuracy of random forest classifier on test set: {:.2f}'\n",
    "     .format(reforest.score(X_validate, y_validate)))"
   ]
  },
  {
   "cell_type": "markdown",
   "id": "d4bd3bfe-c0dc-4141-bad6-07e81697b9f8",
   "metadata": {},
   "source": [
    "### KNN"
   ]
  },
  {
   "cell_type": "code",
   "execution_count": null,
   "id": "509c18c4-896c-4141-9f42-7ca107d14a43",
   "metadata": {},
   "outputs": [],
   "source": [
    "# sets up the  K-Nearest Neighbors model; weights = ['uniform', 'density']\n",
    "knn = KNeighborsClassifier(n_neighbors=5, weights='uniform')"
   ]
  },
  {
   "cell_type": "code",
   "execution_count": null,
   "id": "7b347f7d-292a-4309-aeb1-6dcf543b0914",
   "metadata": {},
   "outputs": [],
   "source": [
    "# fits the knn model to the training data\n",
    "knn.fit(X_train, y_train)"
   ]
  },
  {
   "cell_type": "code",
   "execution_count": null,
   "id": "61e40454-e182-42c7-8fea-3e4ca5a6ed6c",
   "metadata": {},
   "outputs": [],
   "source": [
    "# prints out an accuracy score statement for KNN on the training set\n",
    "print('Accuracy of KNN classifier on training set: {:.2f}'\n",
    "     .format(knn.score(X_train, y_train)))"
   ]
  },
  {
   "cell_type": "code",
   "execution_count": null,
   "id": "239312a2-4980-48cf-ad2a-66a93dfb6bd7",
   "metadata": {},
   "outputs": [],
   "source": [
    "# since knn is the best fitting model it's fitted against the test set\n",
    "knn.fit(X_test, y_test)"
   ]
  },
  {
   "cell_type": "code",
   "execution_count": null,
   "id": "088b5543-cbbd-4c69-9578-b1000cd6c1a8",
   "metadata": {},
   "outputs": [],
   "source": [
    "# prints out an accuracy score statement for KNN on the test set\n",
    "print('Accuracy of KNN classifier on test set: {:.2f}'\n",
    "     .format(knn.score(X_test, y_test)))"
   ]
  },
  {
   "cell_type": "code",
   "execution_count": null,
   "id": "f1598d6c-b8a0-4a9d-b5ba-b23d5d32a060",
   "metadata": {},
   "outputs": [],
   "source": [
    "# a variable for the a numpy array of the prediction made for each value\n",
    "# in the test set\n",
    "y_pred = knn.predict(X_test)"
   ]
  },
  {
   "cell_type": "code",
   "execution_count": null,
   "id": "a31de400-5562-4208-9817-0968c4889f3b",
   "metadata": {},
   "outputs": [],
   "source": [
    "# a variable for the probabilities it gave each value in making its predictions\n",
    "y_pred_proba = knn.predict_proba(X_test)"
   ]
  },
  {
   "cell_type": "code",
   "execution_count": null,
   "id": "4e7180fa",
   "metadata": {
    "tags": []
   },
   "outputs": [],
   "source": [
    "Prodiction = pd.concat([customer_id,pd.concat([prediction_of_churn, probability_of_churn], ignore_index=True)], axis=1)\n",
    "Prodiction"
   ]
  },
  {
   "cell_type": "code",
   "execution_count": null,
   "id": "a141c76e-6893-4ea5-a1a5-d88ce12b2c91",
   "metadata": {},
   "outputs": [],
   "source": [
    "# prints a confusion matrix for the predictive outcomes of the test values\n",
    "print(confusion_matrix(y_test, y_pred))"
   ]
  },
  {
   "cell_type": "code",
   "execution_count": null,
   "id": "45d023e2-7a82-4d43-9563-d9860f483738",
   "metadata": {},
   "outputs": [],
   "source": [
    "# prints a report out showing the recall, precision, and accuracy for the number\n",
    "# of values that fell into each possible outcome\n",
    "print(classification_report(y_test, y_pred))"
   ]
  },
  {
   "cell_type": "markdown",
   "id": "7fcebbaa-0059-4e17-be04-03f50d4f34c6",
   "metadata": {},
   "source": [
    "### Decision Tree"
   ]
  },
  {
   "cell_type": "code",
   "execution_count": null,
   "id": "4af01c69-8036-4855-9ad8-a51813fa3ad1",
   "metadata": {},
   "outputs": [],
   "source": [
    "# sets a variable for the decision tree classification down six levels\n",
    "clf = DecisionTreeClassifier(max_depth=6, random_state=321)"
   ]
  },
  {
   "cell_type": "code",
   "execution_count": null,
   "id": "199f33ab-3bfe-4567-b5f0-8e588928fa47",
   "metadata": {},
   "outputs": [],
   "source": [
    "# fits the decision tree model to our training data set\n",
    "clf = clf.fit(X_train, y_train)"
   ]
  },
  {
   "cell_type": "code",
   "execution_count": null,
   "id": "1e0909d4-4a6e-4a4f-a55e-6232b3d01c14",
   "metadata": {},
   "outputs": [],
   "source": [
    "# makes a decision tree prediction on the training set obeservations\n",
    "y_pred = clf.predict(X_train)"
   ]
  },
  {
   "cell_type": "code",
   "execution_count": null,
   "id": "3ffe3f33-5550-486d-bed3-3abcaf5bd462",
   "metadata": {},
   "outputs": [],
   "source": [
    "# provides the probabilities it use to make predictions on the training set\n",
    "y_pred_proba = clf.predict_proba(X_train)"
   ]
  },
  {
   "cell_type": "code",
   "execution_count": null,
   "id": "43761b5d-9882-4ef3-84f2-81d562e4b390",
   "metadata": {},
   "outputs": [],
   "source": [
    "# prints out an accuracy score statement for the decision tree model on the train set\n",
    "print('Accuracy of Decision Tree classifier on training set: {:.2f}'\n",
    "      .format(clf.score(X_train, y_train)))\n"
   ]
  },
  {
   "cell_type": "code",
   "execution_count": null,
   "id": "64670c40-e3f1-44d3-b37d-da26cca64a2a",
   "metadata": {},
   "outputs": [],
   "source": [
    "# prints a confusion matrix for the predictive outcomes for the train values\n",
    "confusion_matrix(y_train, y_pred)"
   ]
  },
  {
   "cell_type": "code",
   "execution_count": null,
   "id": "07191ae9-331a-42e2-93b2-0571de4b6cde",
   "metadata": {},
   "outputs": [],
   "source": [
    "# prints a report out showing the recall, precision, and accuracy for the number\n",
    "# of values that fell into each possible outcome\n",
    "print(classification_report(y_train, y_pred))"
   ]
  },
  {
   "cell_type": "code",
   "execution_count": null,
   "id": "d421c07f-fe4b-423e-9930-f05b2d57d9cf",
   "metadata": {},
   "outputs": [],
   "source": [
    "# prints out an accuracy score statement for the decision tree model on the validate set\n",
    "print('Accuracy of Decision Tree classifier on validate set: {:.2f}'\n",
    "     .format(clf.score(X_validate, y_validate)))"
   ]
  },
  {
   "cell_type": "code",
   "execution_count": null,
   "id": "a77a2e2c-75cd-4666-a87d-fd712b3d8f4c",
   "metadata": {},
   "outputs": [],
   "source": [
    "# uses the validate set to make predictions for the decision tree classification model\n",
    "y_pred = clf.predict(X_validate)\n",
    "\n",
    "# Compares actual y values (from validate) to predicted y_values from the model run on X_validate\n",
    "print(classification_report(y_validate, y_pred))\n"
   ]
  },
  {
   "cell_type": "markdown",
   "id": "5d9f6b23-647d-4e85-a439-d6880231c872",
   "metadata": {},
   "source": [
    "- **Answer 3** - I found that the number of values for some of the binary choices was too low to run a statistical test or model.\n",
    "- I went back to using the entire train data set to see if there was still a relationship to churn for all customers\n",
    "- It did show that there was a relationship and random forest provided the best working model\n",
    "- Key takeaways are that there is a fairly strong positive correlation between churn and monthly charges for all customers in relation to churn.\n",
    "- Recommendations would be to perhaps try to offer new customers bundles with lowly monthly payments for the first year, preferably two or to offer long time customers some kind of loyalty discount"
   ]
  },
  {
   "cell_type": "markdown",
   "id": "93eb6d1c-c20b-4476-afb3-e90fd4e7443a",
   "metadata": {},
   "source": [
    "### Question 4: Is there a significant difference in correlation between monthly charges and tenure for customers who churn vs those who do not?"
   ]
  },
  {
   "cell_type": "markdown",
   "id": "74f62ea9-52d3-4d20-b954-6638bbb98ac4",
   "metadata": {},
   "source": [
    "- $H_0$ : Null hypothesis - \"There is no difference in correlation between customers who churn and those who do not when it comes to tenure and monthly_charges.\"\n",
    "- $H_a$ : Alternative hypothesis - \"There is a difference in correlation between customers who churn and those who do not when it comes to tenure and monthly_charges.\""
   ]
  },
  {
   "cell_type": "code",
   "execution_count": null,
   "id": "fe87bb09-7090-4833-ac89-1f07bbfd5036",
   "metadata": {},
   "outputs": [],
   "source": [
    "# setting α at 0.05 for a 95% confidence interval\n",
    "α = 0.05"
   ]
  },
  {
   "cell_type": "code",
   "execution_count": null,
   "id": "8f0ad064-83b8-46a9-bebf-d4caf0b8290a",
   "metadata": {},
   "outputs": [],
   "source": [
    "# variable for customers who churned in training data set\n",
    "churn_train = train[train.churn == 'Yes']"
   ]
  },
  {
   "cell_type": "code",
   "execution_count": null,
   "id": "bf7579d9-b732-44a6-9445-74295737f932",
   "metadata": {},
   "outputs": [],
   "source": [
    "# variable for customers who did not churn in training data set\n",
    "no_churn_train = train[train.churn == 'No']"
   ]
  },
  {
   "cell_type": "markdown",
   "id": "ed38facd-2621-4605-a197-90b4b3ea7bde",
   "metadata": {},
   "source": [
    "### Pearson's Correlation of tenure vs monthly charges for churned customers"
   ]
  },
  {
   "cell_type": "code",
   "execution_count": null,
   "id": "0d160fdf-e0bd-4aad-9643-c86e74bf0919",
   "metadata": {},
   "outputs": [],
   "source": [
    "# sets x & y values equal to churned tenure and monthly charges for correlation test\n",
    "x = churn_train.tenure\n",
    "y = churn_train.monthly_charges\n",
    "\n",
    "corr, p = stats.pearsonr(x, y)\n",
    "corr, p"
   ]
  },
  {
   "cell_type": "markdown",
   "id": "ff7415c8-e7b0-40c1-9fc5-651fca3711c3",
   "metadata": {
    "tags": []
   },
   "source": [
    "### Pearson's Correlation of tenure vs monthly charges for non-churned customers"
   ]
  },
  {
   "cell_type": "code",
   "execution_count": null,
   "id": "8bb9466a-db69-4634-900c-7454f01acaf6",
   "metadata": {},
   "outputs": [],
   "source": [
    "# sets x & y values equal to not churned tenure and monthly charges for correlation test\n",
    "x = no_churn_train.tenure\n",
    "y = no_churn_train.monthly_charges\n",
    "\n",
    "corr, p = stats.pearsonr(x, y)\n",
    "corr, p"
   ]
  },
  {
   "cell_type": "markdown",
   "id": "4fbdec72-6002-4095-ad41-863b0f7372e8",
   "metadata": {},
   "source": [
    "### Scatterplot showing monthly charges compared to tenure for churners"
   ]
  },
  {
   "cell_type": "code",
   "execution_count": null,
   "id": "93a9f65e-a968-4886-8a16-ef2d229a7264",
   "metadata": {},
   "outputs": [],
   "source": [
    "# visualizes distribution of correlation for churned customers in a scatter plot\n",
    "churn_train.plot.scatter('tenure', 'monthly_charges')\n",
    "plt.title('Churned Tenure vs Monthly Charges')"
   ]
  },
  {
   "cell_type": "markdown",
   "id": "6ef12763-e602-4418-875d-82b5d21ed5a5",
   "metadata": {},
   "source": [
    "### Scatterplot showing monthly charges vs tenure for non-churners"
   ]
  },
  {
   "cell_type": "code",
   "execution_count": null,
   "id": "90e9cbd7-cc62-4b91-a500-a70c26560406",
   "metadata": {},
   "outputs": [],
   "source": [
    "# visualizes distribution of correlation for non-churned customers in a scatter plot\n",
    "no_churn_train.plot.scatter('tenure', 'monthly_charges')\n",
    "plt.title('Unchurned Tenure vs Monthly Charges')"
   ]
  },
  {
   "cell_type": "code",
   "execution_count": null,
   "id": "e93977f3-12d6-4aa1-a7d5-8a63847d3621",
   "metadata": {},
   "outputs": [],
   "source": [
    "# if statement to print out result of our null hypothesis\n",
    "if p < α:\n",
    "        print(\"Reject the null hypothesis\")\n",
    "else:\n",
    "    print(\"Fail to reject the null hypothesis\")"
   ]
  },
  {
   "cell_type": "markdown",
   "id": "3ddb0f5a-9574-49b2-949e-af8fa4b9ba52",
   "metadata": {},
   "source": [
    "- **Answer 4** -  I fail to reject the null hypothesis due to the extremely small p-value from given by Pearson's Correlation Coefficient statistical test which is well below the set alpha of 0.05\n",
    "- Yes, there is a stronger correlation between tenure and monthly charges for those who churn compared to those who did not churn.\n",
    "- The correlation is on the weak side but is still quite discernable once it's shown in a scatterplot.\n",
    "- Key takeaways are that people who churned tended to have higher monthly charges that also tended to increase with tenure\n",
    "- Recommendation would be try contacting customers at high risk of churning and seeing if there are services they can do without or downgrade for cheaper monthly payments"
   ]
  },
  {
   "cell_type": "markdown",
   "id": "379aa49a-3963-46e9-9926-f0fe52082756",
   "metadata": {},
   "source": [
    "## Conclusion\n",
    "- There are many different factors that show some correlation or dependence in relation to churn\n",
    "- This is a fairly small number of people compare to other telecommnucations companies, so there may be other factors at play that may result in spurious correlations\n",
    "- The churn we see is likely the culmination of many factors that result in higher overall charges and the ease of switching without the yearly contracts.\n",
    "- My recommendation is that we increase our profit margin by raising prices saying it's necessary due to inflation but offer a friends & family plans at a slightly discounted rate so that they encourage people to they know to join their plan, making it more difficult for them to churn on their own.\n",
    "- To improve our results I suggest that we get credit alerts for our customers to determine who is struggling financially since we may be able to offer them alternative  forms of payment like lines of credit for loans."
   ]
  }
 ],
 "metadata": {
  "kernelspec": {
   "display_name": "Python 3 (ipykernel)",
   "language": "python",
   "name": "python3"
  },
  "language_info": {
   "codemirror_mode": {
    "name": "ipython",
    "version": 3
   },
   "file_extension": ".py",
   "mimetype": "text/x-python",
   "name": "python",
   "nbconvert_exporter": "python",
   "pygments_lexer": "ipython3",
   "version": "3.9.7"
  }
 },
 "nbformat": 4,
 "nbformat_minor": 5
}
